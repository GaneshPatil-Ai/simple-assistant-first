{
  "cells": [
    {
      "cell_type": "markdown",
      "metadata": {},
      "source": [
        "# Multi-Agent Supervisor with Azure OpenAI\n",
        "\n",
        "This notebook demonstrates how to create a multi-agent system using LangGraph with a supervisor agent that delegates tasks to specialized agents. The system uses Azure OpenAI for all language model operations.\n",
        "\n",
        "## Overview\n",
        "\n",
        "The system consists of:\n",
        "1. **Supervisor Agent**: Manages task delegation and coordination\n",
        "2. **Research Agent**: Handles research-related tasks\n",
        "3. **Math Agent**: Handles mathematical calculations\n",
        "4. **Writing Agent**: Handles content creation and writing tasks\n",
        "\n",
        "## Prerequisites\n",
        "\n",
        "Before running this notebook, ensure you have:\n",
        "1. An Azure OpenAI resource with deployed models\n",
        "2. The required Python packages installed\n",
        "3. Your Azure OpenAI credentials configured\n"
      ]
    },
    {
      "cell_type": "markdown",
      "metadata": {},
      "source": [
        "## 1. Installation and Setup\n"
      ]
    },
    {
      "cell_type": "code",
      "execution_count": null,
      "metadata": {},
      "outputs": [],
      "source": [
        "# Install required packages\n",
        "%pip install langchain langchain-openai langgraph langchain-community\n"
      ]
    },
    {
      "cell_type": "markdown",
      "metadata": {},
      "source": [
        "## 2. Environment Configuration\n"
      ]
    },
    {
      "cell_type": "code",
      "execution_count": null,
      "metadata": {},
      "outputs": [],
      "source": [
        "import os\n",
        "from typing import Annotated, Literal\n",
        "from typing_extensions import TypedDict\n",
        "\n",
        "# Configure Azure OpenAI environment variables\n",
        "# Replace these with your actual Azure OpenAI credentials\n",
        "os.environ[\"OPENAI_API_VERSION\"] = \"2023-12-01-preview\"\n",
        "os.environ[\"AZURE_OPENAI_ENDPOINT\"] = \"https://your-resource-name.openai.azure.com\"\n",
        "os.environ[\"AZURE_OPENAI_API_KEY\"] = \"your-azure-openai-api-key\"\n",
        "\n",
        "# Optional: If using Azure Active Directory authentication\n",
        "# os.environ[\"OPENAI_API_TYPE\"] = \"azure_ad\"\n",
        "\n",
        "print(\"Environment variables configured successfully!\")\n"
      ]
    },
    {
      "cell_type": "markdown",
      "metadata": {},
      "source": [
        "## 3. Import Required Libraries\n"
      ]
    },
    {
      "cell_type": "code",
      "execution_count": null,
      "metadata": {},
      "outputs": [],
      "source": [
        "from langchain_openai import AzureChatOpenAI\n",
        "from langchain_core.messages import BaseMessage, HumanMessage, AIMessage\n",
        "from langchain_core.tools import tool\n",
        "from langchain.agents import AgentExecutor, create_react_agent\n",
        "from langchain import hub\n",
        "from langgraph.graph import StateGraph, END, START\n",
        "from langgraph.prebuilt import ToolNode\n",
        "from langgraph.checkpoint.memory import MemorySaver\n",
        "import json\n",
        "from typing import List, Dict, Any\n"
      ]
    },
    {
      "cell_type": "markdown",
      "metadata": {},
      "source": [
        "## 4. Define State Schema\n"
      ]
    },
    {
      "cell_type": "code",
      "execution_count": null,
      "metadata": {},
      "outputs": [],
      "source": [
        "class MessagesState(TypedDict):\n",
        "    messages: Annotated[List[BaseMessage], \"The messages in the conversation\"]\n",
        "    next: str\n"
      ]
    },
    {
      "cell_type": "markdown",
      "metadata": {},
      "source": [
        "## 5. Initialize Azure OpenAI Models\n"
      ]
    },
    {
      "cell_type": "code",
      "execution_count": null,
      "metadata": {},
      "outputs": [],
      "source": [
        "# Initialize Azure OpenAI models for different agents\n",
        "# Replace deployment names with your actual deployment names\n",
        "\n",
        "# Main LLM for supervisor and general tasks\n",
        "llm = AzureChatOpenAI(\n",
        "    deployment_name=\"gpt-4\",  # Replace with your GPT-4 deployment name\n",
        "    model_name=\"gpt-4\",\n",
        "    temperature=0.1,\n",
        "    max_tokens=1000\n",
        ")\n",
        "\n",
        "# Alternative model for specialized tasks (optional)\n",
        "llm_math = AzureChatOpenAI(\n",
        "    deployment_name=\"gpt-35-turbo\",  # Replace with your GPT-3.5 deployment name\n",
        "    model_name=\"gpt-3.5-turbo\",\n",
        "    temperature=0.0,  # Lower temperature for math tasks\n",
        "    max_tokens=500\n",
        ")\n",
        "\n",
        "print(\"Azure OpenAI models initialized successfully!\")\n"
      ]
    },
    {
      "cell_type": "markdown",
      "metadata": {},
      "source": [
        "## 6. Define Tools for Each Agent\n"
      ]
    },
    {
      "cell_type": "code",
      "execution_count": null,
      "metadata": {},
      "outputs": [],
      "source": [
        "# Research Agent Tools\n",
        "@tool\n",
        "def search_web(query: str) -> str:\n",
        "    \"\"\"Search the web for information about a given query.\n",
        "    \n",
        "    Args:\n",
        "        query: The search query to look up information about.\n",
        "    \n",
        "    Returns:\n",
        "        A string containing the search results.\n",
        "    \"\"\"\n",
        "    # In a real implementation, you would use a web search API\n",
        "    # For this example, we'll simulate search results\n",
        "    return f\"Search results for '{query}': This is simulated research data. In a real implementation, you would integrate with a web search API like Serper, Tavily, or Google Search.\"\n",
        "\n",
        "@tool\n",
        "def get_financial_data(company: str, metric: str) -> str:\n",
        "    \"\"\"Get financial data for a company.\n",
        "    \n",
        "    Args:\n",
        "        company: The company name or ticker symbol.\n",
        "        metric: The financial metric to retrieve (e.g., 'revenue', 'gdp', 'market_cap').\n",
        "    \n",
        "    Returns:\n",
        "        A string containing the financial data.\n",
        "    \"\"\"\n",
        "    # Simulated financial data\n",
        "    if \"US\" in company.upper() and \"GDP\" in metric.upper():\n",
        "        return \"US GDP in 2024: $28.7 trillion (simulated data)\"\n",
        "    elif \"NEW YORK\" in company.upper() and \"GDP\" in metric.upper():\n",
        "        return \"New York State GDP in 2024: $2.1 trillion (simulated data)\"\n",
        "    else:\n",
        "        return f\"Financial data for {company} - {metric}: Data not available (simulated)\"\n",
        "\n",
        "# Math Agent Tools\n",
        "@tool\n",
        "def calculate_percentage(part: float, whole: float) -> str:\n",
        "    \"\"\"Calculate the percentage that part represents of the whole.\n",
        "    \n",
        "    Args:\n",
        "        part: The part value.\n",
        "        whole: The whole value.\n",
        "    \n",
        "    Returns:\n",
        "        A string with the percentage calculation.\n",
        "    \"\"\"\n",
        "    if whole == 0:\n",
        "        return \"Error: Cannot divide by zero\"\n",
        "    percentage = (part / whole) * 100\n",
        "    return f\"{part} is {percentage:.2f}% of {whole}\"\n",
        "\n",
        "@tool\n",
        "def perform_calculation(expression: str) -> str:\n",
        "    \"\"\"Perform a mathematical calculation safely.\n",
        "    \n",
        "    Args:\n",
        "        expression: A mathematical expression to evaluate.\n",
        "    \n",
        "    Returns:\n",
        "        A string with the calculation result.\n",
        "    \"\"\"\n",
        "    try:\n",
        "        # Simple safe evaluation for basic math\n",
        "        allowed_chars = set('0123456789+-*/.() ')\n",
        "        if all(c in allowed_chars for c in expression):\n",
        "            result = eval(expression)\n",
        "            return f\"{expression} = {result}\"\n",
        "        else:\n",
        "            return \"Error: Expression contains invalid characters\"\n",
        "    except Exception as e:\n",
        "        return f\"Error calculating '{expression}': {str(e)}\"\n",
        "\n",
        "# Writing Agent Tools\n",
        "@tool\n",
        "def format_report(data: str, format_type: str = \"markdown\") -> str:\n",
        "    \"\"\"Format data into a structured report.\n",
        "    \n",
        "    Args:\n",
        "        data: The data to format.\n",
        "        format_type: The format type (markdown, json, plain).\n",
        "    \n",
        "    Returns:\n",
        "        A formatted report string.\n",
        "    \"\"\"\n",
        "    if format_type.lower() == \"markdown\":\n",
        "        return f\"# Report\\n\\n{data}\\n\\n---\\n*Generated by Multi-Agent System*\"\n",
        "    elif format_type.lower() == \"json\":\n",
        "        return json.dumps({\"report\": data, \"format\": format_type}, indent=2)\n",
        "    else:\n",
        "        return f\"REPORT:\\n{data}\\n\\n---\\nGenerated by Multi-Agent System\"\n",
        "\n",
        "print(\"Tools defined successfully!\")\n"
      ]
    },
    {
      "cell_type": "markdown",
      "metadata": {},
      "source": []
    }
  ],
  "metadata": {
    "language_info": {
      "name": "python"
    }
  },
  "nbformat": 4,
  "nbformat_minor": 2
}
